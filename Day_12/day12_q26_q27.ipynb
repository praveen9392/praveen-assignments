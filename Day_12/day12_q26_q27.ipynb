{
 "cells": [
  {
   "cell_type": "code",
   "execution_count": 15,
   "id": "f6b2f54d-1e58-456a-aad2-f355187b50cf",
   "metadata": {},
   "outputs": [],
   "source": [
    "# Question-26\n",
    "# # HandsOn - Predict The Data Scientists Salary In India from kaggle use sklearn\n",
    "# dataset: Predict-The-Data-Scientists-Salary-In-India_Train_Dataset.csv\n",
    "# Data Features:\n",
    "#     Name of the company (Encoded)\n",
    "#     Years of experience(split to min and max experience)\n",
    "#     Job description\n",
    "#     Job designation\n",
    "#     Job Type\n",
    "#     Key skills\n",
    "#     Location (needs LabelEncoded)\n",
    "#     Salary in Rupees Lakhs(To be predicted)(needs LabelEncoded)\n",
    "    \n",
    "# Find the best estimator among below \n",
    "# clf1 = DecisionTreeClassifier()\n",
    "# clf2 = RandomForestClassifier(n_estimators=100)\n",
    "# clf3 = ExtraTreesClassifier(n_estimators=100)\n",
    "# clf4 =  AdaBoostClassifier(n_estimators=100)\n",
    "# clf5 =  GradientBoostingClassifier(n_estimators=100)\n",
    "# "
   ]
  },
  {
   "cell_type": "code",
   "execution_count": 13,
   "id": "92cdd73d-6bb3-4646-8920-60344998b3c6",
   "metadata": {},
   "outputs": [
    {
     "name": "stdout",
     "output_type": "stream",
     "text": [
      "Decision Tree Accuracy: 0.3194\n",
      "Random Forest Accuracy: 0.3522\n",
      "Extra Trees Accuracy: 0.3365\n",
      "AdaBoost Accuracy: 0.3926\n",
      "Gradient Boosting Accuracy: 0.4489\n"
     ]
    }
   ],
   "source": [
    "import pandas as pd\n",
    "from sklearn.model_selection import train_test_split\n",
    "from sklearn.preprocessing import LabelEncoder\n",
    "from sklearn.tree import DecisionTreeClassifier\n",
    "from sklearn.ensemble import RandomForestClassifier, ExtraTreesClassifier, AdaBoostClassifier, GradientBoostingClassifier\n",
    "from sklearn.metrics import accuracy_score\n",
    "\n",
    "data = pd.read_csv(r\"code/data/Predict-The-Data-Scientists-Salary-In-India_Train_Dataset.csv\")\n",
    "# print(data.columns)\n",
    "\n",
    "data['MinExp'] = [float(x.split('-')[0].strip('yrs')) for x in data['experience']]\n",
    "data['MaxExp'] = [float(x.split('-')[1].strip('yrs')) for x in data['experience']]\n",
    "\n",
    "data = data.drop(['job_description', 'key_skills', 'experience', 'Unnamed: 0'], axis=1)\n",
    "\n",
    "le = LabelEncoder()\n",
    "for col in ['location', 'salary', 'job_type', 'job_desig', 'company_name_encoded']:\n",
    "    data[col] = le.fit_transform(data[col])\n",
    "\n",
    "X = data.drop(['salary'], axis=1)\n",
    "y = data['salary']\n",
    "X_train, X_test, y_train, y_test = train_test_split(X, y, test_size=0.2)\n",
    "\n",
    "models = [\n",
    "    (\"Decision Tree\", DecisionTreeClassifier()),\n",
    "    (\"Random Forest\", RandomForestClassifier(n_estimators=100)),\n",
    "    (\"Extra Trees\", ExtraTreesClassifier(n_estimators=100)),\n",
    "    (\"AdaBoost\", AdaBoostClassifier(n_estimators=100)),\n",
    "    (\"Gradient Boosting\", GradientBoostingClassifier(n_estimators=100))\n",
    "]\n",
    "\n",
    "for name, model in models:\n",
    "    model.fit(X_train, y_train)\n",
    "    y_pred = model.predict(X_test)\n",
    "    print(f\"{name} Accuracy: {accuracy_score(y_test, y_pred):.4f}\")\n"
   ]
  },
  {
   "cell_type": "code",
   "execution_count": 16,
   "id": "e1c1d2fa-725d-460e-b77c-ba0b2b42087d",
   "metadata": {},
   "outputs": [],
   "source": [
    "# Question-27\n",
    "# # HandsOn - Titanic survival prediction , from Kaggle\n",
    "# https://www.kaggle.com/c/titanic/data\n",
    "           \n",
    "# Understand data, download only train.csv and test.csv \n",
    "\n",
    "# Using Tpot, find the test score of best Estimator \n",
    "# Hint:\n",
    "# The first and most important step in using TPOT on any data set \n",
    "# is to rename the target class/response variable to 'class'.\n",
    "\n",
    "# At present, TPOT requires all the data to be in numerical format. \n",
    "# Categorical:  Name, Sex, Ticket, Cabin and Embarked.\n",
    "# So convert categorical to number(which preprocessing?) and/or \n",
    "# discard high levels of categorical completely \n"
   ]
  },
  {
   "cell_type": "code",
   "execution_count": 24,
   "id": "c2db7eb9-67b5-4aff-a1ed-c8835350504f",
   "metadata": {},
   "outputs": [
    {
     "name": "stdout",
     "output_type": "stream",
     "text": [
      "is_classifier\n",
      "is_regressor\n",
      "is_classifier\n",
      "is_regressor\n",
      "is_classifier\n",
      "is_regressor\n",
      "is_classifier\n"
     ]
    },
    {
     "name": "stderr",
     "output_type": "stream",
     "text": [
      "C:\\Users\\Praveen\\Desktop\\handson\\myenv\\Lib\\site-packages\\sklearn\\base.py:1230: FutureWarning: passing a class to None is deprecated and will be removed in 1.8. Use an instance of the class instead.\n",
      "  warnings.warn(\n",
      "C:\\Users\\Praveen\\Desktop\\handson\\myenv\\Lib\\site-packages\\sklearn\\base.py:1270: FutureWarning: passing a class to None is deprecated and will be removed in 1.8. Use an instance of the class instead.\n",
      "  warnings.warn(\n"
     ]
    },
    {
     "name": "stdout",
     "output_type": "stream",
     "text": [
      "is_classifier\n",
      "is_classifier\n",
      "is_classifier\n",
      "is_regressor\n",
      "is_classifier\n",
      "is_regressor\n",
      "is_classifier\n",
      "is_regressor\n",
      "is_classifier\n",
      "is_regressor\n",
      "is_classifier\n",
      "is_regressor\n",
      "is_classifier\n",
      "is_regressor\n",
      "is_classifier\n",
      "is_regressor\n",
      "is_classifier\n",
      "is_classifier\n",
      "is_classifier\n",
      "is_classifier\n",
      "is_classifier\n",
      "is_classifier\n",
      "is_classifier\n",
      "is_classifier\n",
      "is_regressor\n",
      "is_classifier\n",
      "is_regressor\n",
      "is_classifier\n",
      "is_regressor\n",
      "is_classifier\n",
      "is_regressor\n",
      "is_classifier\n",
      "is_regressor\n",
      "is_classifier\n",
      "is_regressor\n",
      "is_classifier\n",
      "is_regressor\n",
      "is_classifier\n",
      "is_classifier\n",
      "is_classifier\n",
      "is_regressor\n",
      "is_classifier\n",
      "is_regressor\n",
      "is_classifier\n"
     ]
    },
    {
     "name": "stderr",
     "output_type": "stream",
     "text": [
      "Version 0.12.2 of tpot is outdated. Version 1.0.0 was released Wednesday February 26, 2025.\n"
     ]
    },
    {
     "name": "stdout",
     "output_type": "stream",
     "text": [
      "                                                                                                                       \n",
      "Generation 1 - Current best internal CV score: 0.8294520118008915\n",
      "                                                                                                                       \n",
      "Generation 2 - Current best internal CV score: 0.8294520118008915\n",
      "                                                                                                                       \n",
      "Generation 3 - Current best internal CV score: 0.8294520118008915\n",
      "Optimization Progress:  67%|██████████████████████████████████▋                 | 80/120 [01:35<00:59,  1.48s/pipeline]"
     ]
    },
    {
     "name": "stderr",
     "output_type": "stream",
     "text": [
      "  File \"C:\\Users\\Praveen\\Desktop\\handson\\myenv\\Lib\\site-packages\\joblib\\externals\\loky\\backend\\context.py\", line 257, in _count_physical_cores\n",
      "    cpu_info = subprocess.run(\n",
      "               ^^^^^^^^^^^^^^^\n",
      "  File \"C:\\Users\\Praveen\\AppData\\Local\\Programs\\Python\\Python312\\Lib\\subprocess.py\", line 548, in run\n",
      "    with Popen(*popenargs, **kwargs) as process:\n",
      "         ^^^^^^^^^^^^^^^^^^^^^^^^^^^\n",
      "  File \"C:\\Users\\Praveen\\AppData\\Local\\Programs\\Python\\Python312\\Lib\\subprocess.py\", line 1026, in __init__\n",
      "    self._execute_child(args, executable, preexec_fn, close_fds,\n",
      "  File \"C:\\Users\\Praveen\\AppData\\Local\\Programs\\Python\\Python312\\Lib\\subprocess.py\", line 1538, in _execute_child\n",
      "    hp, ht, pid, tid = _winapi.CreateProcess(executable, args,\n",
      "                       ^^^^^^^^^^^^^^^^^^^^^^^^^^^^^^^^^^^^^^^\n"
     ]
    },
    {
     "name": "stdout",
     "output_type": "stream",
     "text": [
      "                                                                                                                       \n",
      "Generation 4 - Current best internal CV score: 0.8350386039796623\n",
      "                                                                                                                       \n",
      "Generation 5 - Current best internal CV score: 0.8350386039796623\n",
      "                                                                                                                       \n",
      "Best pipeline: DecisionTreeClassifier(XGBClassifier(input_matrix, learning_rate=0.1, max_depth=4, min_child_weight=5, n_estimators=100, n_jobs=1, subsample=0.7000000000000001, verbosity=0), criterion=entropy, max_depth=3, min_samples_leaf=20, min_samples_split=10)\n"
     ]
    }
   ],
   "source": [
    "import pandas as pd\n",
    "from tpot import TPOTClassifier\n",
    "\n",
    "train = pd.read_csv(\"code/data/train.csv\")\n",
    "test = pd.read_csv(\"code/data/test.csv\")\n",
    "# print(\"train columsn\",train.columns)\n",
    "# print(\"test columns\",test.columns)\n",
    "\n",
    "train.rename(columns={'survived': 'class'}, inplace=True)\n",
    "cols_to_drop = ['name', 'ticket', 'cabin']\n",
    "train = train.drop(columns=[col for col in cols_to_drop if col in train.columns])\n",
    "test = test.drop(columns=[col for col in cols_to_drop if col in test.columns])\n",
    "\n",
    "train['sex'] = train['sex'].map({'male': 0, 'female': 1})\n",
    "test['sex'] = test['sex'].map({'male': 0, 'female': 1})\n",
    "\n",
    "train['embarked'] = train['embarked'].map({'S': 0, 'C': 1, 'Q': 2})\n",
    "test['embarked'] = test['embarked'].map({'S': 0, 'C': 1, 'Q': 2})\n",
    "\n",
    "train = train.fillna(0)\n",
    "test = test.fillna(0)\n",
    "\n",
    "X_train = train.drop('class', axis=1)\n",
    "y_train = train['class']\n",
    "\n",
    "model = TPOTClassifier(generations=5, population_size=20, verbosity=2)\n",
    "model.fit(X_train, y_train)\n",
    "model.export(\"best_titanic_model.py\")\n",
    "\n",
    "predictions = model.predict(test)\n",
    "submission = pd.DataFrame({ 'PassengerId': range(1, len(test) + 1),'Survived': predictions})\n",
    "submission.to_csv(\"tpot_submission.csv\", index=False)\n"
   ]
  },
  {
   "cell_type": "code",
   "execution_count": 25,
   "id": "e5cca818-cf59-4719-b763-54f87a797469",
   "metadata": {},
   "outputs": [
    {
     "name": "stdout",
     "output_type": "stream",
     "text": [
      "Requirement already satisfied: tpot in c:\\users\\praveen\\desktop\\handson\\myenv\\lib\\site-packages (0.12.2)\n",
      "Requirement already satisfied: numpy>=1.16.3 in c:\\users\\praveen\\desktop\\handson\\myenv\\lib\\site-packages (from tpot) (2.1.3)\n",
      "Requirement already satisfied: scipy>=1.3.1 in c:\\users\\praveen\\desktop\\handson\\myenv\\lib\\site-packages (from tpot) (1.15.2)\n",
      "Requirement already satisfied: scikit-learn>=1.4.1 in c:\\users\\praveen\\desktop\\handson\\myenv\\lib\\site-packages (from tpot) (1.6.1)\n",
      "Requirement already satisfied: deap>=1.2 in c:\\users\\praveen\\desktop\\handson\\myenv\\lib\\site-packages (from tpot) (1.4.2)\n",
      "Requirement already satisfied: update-checker>=0.16 in c:\\users\\praveen\\desktop\\handson\\myenv\\lib\\site-packages (from tpot) (0.18.0)\n",
      "Requirement already satisfied: tqdm>=4.36.1 in c:\\users\\praveen\\desktop\\handson\\myenv\\lib\\site-packages (from tpot) (4.67.1)\n",
      "Requirement already satisfied: stopit>=1.1.1 in c:\\users\\praveen\\desktop\\handson\\myenv\\lib\\site-packages (from tpot) (1.1.2)\n",
      "Requirement already satisfied: pandas>=0.24.2 in c:\\users\\praveen\\desktop\\handson\\myenv\\lib\\site-packages (from tpot) (2.2.3)\n",
      "Requirement already satisfied: joblib>=0.13.2 in c:\\users\\praveen\\desktop\\handson\\myenv\\lib\\site-packages (from tpot) (1.4.2)\n",
      "Requirement already satisfied: xgboost>=1.1.0 in c:\\users\\praveen\\desktop\\handson\\myenv\\lib\\site-packages (from tpot) (3.0.0)\n",
      "Requirement already satisfied: python-dateutil>=2.8.2 in c:\\users\\praveen\\desktop\\handson\\myenv\\lib\\site-packages (from pandas>=0.24.2->tpot) (2.9.0.post0)\n",
      "Requirement already satisfied: pytz>=2020.1 in c:\\users\\praveen\\desktop\\handson\\myenv\\lib\\site-packages (from pandas>=0.24.2->tpot) (2025.2)\n",
      "Requirement already satisfied: tzdata>=2022.7 in c:\\users\\praveen\\desktop\\handson\\myenv\\lib\\site-packages (from pandas>=0.24.2->tpot) (2025.2)\n",
      "Requirement already satisfied: six>=1.5 in c:\\users\\praveen\\desktop\\handson\\myenv\\lib\\site-packages (from python-dateutil>=2.8.2->pandas>=0.24.2->tpot) (1.17.0)\n",
      "Requirement already satisfied: threadpoolctl>=3.1.0 in c:\\users\\praveen\\desktop\\handson\\myenv\\lib\\site-packages (from scikit-learn>=1.4.1->tpot) (3.6.0)\n",
      "Requirement already satisfied: colorama in c:\\users\\praveen\\desktop\\handson\\myenv\\lib\\site-packages (from tqdm>=4.36.1->tpot) (0.4.6)\n",
      "Requirement already satisfied: requests>=2.3.0 in c:\\users\\praveen\\desktop\\handson\\myenv\\lib\\site-packages (from update-checker>=0.16->tpot) (2.32.3)\n",
      "Requirement already satisfied: charset-normalizer<4,>=2 in c:\\users\\praveen\\desktop\\handson\\myenv\\lib\\site-packages (from requests>=2.3.0->update-checker>=0.16->tpot) (3.4.1)\n",
      "Requirement already satisfied: idna<4,>=2.5 in c:\\users\\praveen\\desktop\\handson\\myenv\\lib\\site-packages (from requests>=2.3.0->update-checker>=0.16->tpot) (3.10)\n",
      "Requirement already satisfied: urllib3<3,>=1.21.1 in c:\\users\\praveen\\desktop\\handson\\myenv\\lib\\site-packages (from requests>=2.3.0->update-checker>=0.16->tpot) (2.3.0)\n",
      "Requirement already satisfied: certifi>=2017.4.17 in c:\\users\\praveen\\desktop\\handson\\myenv\\lib\\site-packages (from requests>=2.3.0->update-checker>=0.16->tpot) (2025.1.31)\n"
     ]
    }
   ],
   "source": [
    "!pip install --upgrade tpot"
   ]
  },
  {
   "cell_type": "code",
   "execution_count": null,
   "id": "78debe6d-fea3-433a-9bfd-f0ceaf0f0fbc",
   "metadata": {},
   "outputs": [],
   "source": [
    "# Keras:\n",
    "# data/pima-indians-diabetes.csv, Binary classification "
   ]
  },
  {
   "cell_type": "code",
   "execution_count": 34,
   "id": "8ecebcff-75d2-4024-8a80-7f839cbc7f4d",
   "metadata": {},
   "outputs": [
    {
     "name": "stdout",
     "output_type": "stream",
     "text": [
      "\u001b[1m5/5\u001b[0m \u001b[32m━━━━━━━━━━━━━━━━━━━━\u001b[0m\u001b[37m\u001b[0m \u001b[1m0s\u001b[0m 18ms/step - accuracy: 0.6895 - loss: 0.5448 \n",
      "73.38\n"
     ]
    }
   ],
   "source": [
    "import pandas as pd\n",
    "from sklearn.model_selection import train_test_split\n",
    "from sklearn.preprocessing import StandardScaler\n",
    "from keras.models import Sequential\n",
    "from keras.layers import Dense, Input\n",
    "\n",
    "data = pd.read_csv(\"code/data/pima-indians-diabetes.csv\", header=None)\n",
    "data.columns = ['pregnancies', 'glucose', 'blood_pressure', 'skin_thickness', 'insulin',\n",
    "                'bmi', 'diabetes_pedigree', 'age', 'outcome']\n",
    "\n",
    "X = data.drop('outcome', axis=1)\n",
    "y = data['outcome']\n",
    "\n",
    "X_train, X_test, y_train, y_test = train_test_split(X, y, test_size=0.2)\n",
    "scaler = StandardScaler()\n",
    "X_train = scaler.fit_transform(X_train)\n",
    "X_test = scaler.transform(X_test)\n",
    "\n",
    "model = Sequential()\n",
    "model.add(Input(shape=(8,)))\n",
    "model.add(Dense(10, activation='relu'))\n",
    "model.add(Dense(1, activation='sigmoid'))\n",
    "\n",
    "model.compile(optimizer='adam', loss='binary_crossentropy', metrics=['accuracy'])\n",
    "model.fit(X_train, y_train, epochs=50, verbose=0)\n",
    "\n",
    "loss, accuracy = model.evaluate(X_test, y_test)\n",
    "print(round(accuracy * 100, 2))\n"
   ]
  },
  {
   "cell_type": "code",
   "execution_count": null,
   "id": "9c49f308-b48f-43de-ac0c-b9bf15577849",
   "metadata": {},
   "outputs": [],
   "source": []
  }
 ],
 "metadata": {
  "kernelspec": {
   "display_name": "Python 3 (ipykernel)",
   "language": "python",
   "name": "python3"
  },
  "language_info": {
   "codemirror_mode": {
    "name": "ipython",
    "version": 3
   },
   "file_extension": ".py",
   "mimetype": "text/x-python",
   "name": "python",
   "nbconvert_exporter": "python",
   "pygments_lexer": "ipython3",
   "version": "3.12.8"
  }
 },
 "nbformat": 4,
 "nbformat_minor": 5
}
